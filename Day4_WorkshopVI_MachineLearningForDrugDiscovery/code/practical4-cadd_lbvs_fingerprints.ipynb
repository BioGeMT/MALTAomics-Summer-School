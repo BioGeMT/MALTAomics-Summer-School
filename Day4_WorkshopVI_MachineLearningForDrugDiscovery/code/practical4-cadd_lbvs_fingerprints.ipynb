{
 "cells": [
  {
   "cell_type": "code",
   "execution_count": 1,
   "metadata": {},
   "outputs": [
    {
     "name": "stdout",
     "output_type": "stream",
     "text": [
      "2023.03.3\n"
     ]
    }
   ],
   "source": [
    "%matplotlib inline\n",
    "\n",
    "import rdkit # compchem library\n",
    "from rdkit import Chem\n",
    "from rdkit.Chem import AllChem\n",
    "from rdkit.Chem import Draw\n",
    "from rdkit.Chem import Descriptors\n",
    "from rdkit.Chem.Draw import IPythonConsole # use this to draw molecules in the notebook\n",
    "from rdkit import rdBase\n",
    "print(rdkit.__version__)\n",
    "\n",
    "import pandas as pd\n",
    "import numpy as np"
   ]
  },
  {
   "cell_type": "markdown",
   "metadata": {},
   "source": [
    "Data for this exercise taken from the [DUD-E validation dataset](http://dude.docking.org/targets/try1)."
   ]
  },
  {
   "cell_type": "code",
   "execution_count": 2,
   "metadata": {},
   "outputs": [],
   "source": [
    "def get_mols(smi_file):\n",
    "    mols = []\n",
    "    with open(smi_file) as f:\n",
    "        for l in f:\n",
    "            mols.append(l.split()[0])\n",
    "    return mols"
   ]
  },
  {
   "cell_type": "code",
   "execution_count": 3,
   "metadata": {},
   "outputs": [
    {
     "data": {
      "text/html": [
       "<div>\n",
       "<style scoped>\n",
       "    .dataframe tbody tr th:only-of-type {\n",
       "        vertical-align: middle;\n",
       "    }\n",
       "\n",
       "    .dataframe tbody tr th {\n",
       "        vertical-align: top;\n",
       "    }\n",
       "\n",
       "    .dataframe thead th {\n",
       "        text-align: right;\n",
       "    }\n",
       "</style>\n",
       "<table border=\"1\" class=\"dataframe\">\n",
       "  <thead>\n",
       "    <tr style=\"text-align: right;\">\n",
       "      <th></th>\n",
       "      <th>molecule</th>\n",
       "      <th>class</th>\n",
       "    </tr>\n",
       "  </thead>\n",
       "  <tbody>\n",
       "    <tr>\n",
       "      <th>0</th>\n",
       "      <td>&lt;rdkit.Chem.rdchem.Mol object at 0x7f6d4877af10&gt;</td>\n",
       "      <td>1</td>\n",
       "    </tr>\n",
       "    <tr>\n",
       "      <th>1</th>\n",
       "      <td>&lt;rdkit.Chem.rdchem.Mol object at 0x7f6d4877af80&gt;</td>\n",
       "      <td>1</td>\n",
       "    </tr>\n",
       "    <tr>\n",
       "      <th>2</th>\n",
       "      <td>&lt;rdkit.Chem.rdchem.Mol object at 0x7f6d4877aff0&gt;</td>\n",
       "      <td>1</td>\n",
       "    </tr>\n",
       "    <tr>\n",
       "      <th>3</th>\n",
       "      <td>&lt;rdkit.Chem.rdchem.Mol object at 0x7f6d4877b060&gt;</td>\n",
       "      <td>1</td>\n",
       "    </tr>\n",
       "    <tr>\n",
       "      <th>4</th>\n",
       "      <td>&lt;rdkit.Chem.rdchem.Mol object at 0x7f6d4877b0d0&gt;</td>\n",
       "      <td>1</td>\n",
       "    </tr>\n",
       "    <tr>\n",
       "      <th>...</th>\n",
       "      <td>...</td>\n",
       "      <td>...</td>\n",
       "    </tr>\n",
       "    <tr>\n",
       "      <th>394</th>\n",
       "      <td>&lt;rdkit.Chem.rdchem.Mol object at 0x7f6d487aa1f0&gt;</td>\n",
       "      <td>0</td>\n",
       "    </tr>\n",
       "    <tr>\n",
       "      <th>395</th>\n",
       "      <td>&lt;rdkit.Chem.rdchem.Mol object at 0x7f6d487aa260&gt;</td>\n",
       "      <td>0</td>\n",
       "    </tr>\n",
       "    <tr>\n",
       "      <th>396</th>\n",
       "      <td>&lt;rdkit.Chem.rdchem.Mol object at 0x7f6d487aa2d0&gt;</td>\n",
       "      <td>0</td>\n",
       "    </tr>\n",
       "    <tr>\n",
       "      <th>397</th>\n",
       "      <td>&lt;rdkit.Chem.rdchem.Mol object at 0x7f6d487aa340&gt;</td>\n",
       "      <td>0</td>\n",
       "    </tr>\n",
       "    <tr>\n",
       "      <th>398</th>\n",
       "      <td>&lt;rdkit.Chem.rdchem.Mol object at 0x7f6d487aa3b0&gt;</td>\n",
       "      <td>0</td>\n",
       "    </tr>\n",
       "  </tbody>\n",
       "</table>\n",
       "<p>399 rows × 2 columns</p>\n",
       "</div>"
      ],
      "text/plain": [
       "                                             molecule  class\n",
       "0    <rdkit.Chem.rdchem.Mol object at 0x7f6d4877af10>      1\n",
       "1    <rdkit.Chem.rdchem.Mol object at 0x7f6d4877af80>      1\n",
       "2    <rdkit.Chem.rdchem.Mol object at 0x7f6d4877aff0>      1\n",
       "3    <rdkit.Chem.rdchem.Mol object at 0x7f6d4877b060>      1\n",
       "4    <rdkit.Chem.rdchem.Mol object at 0x7f6d4877b0d0>      1\n",
       "..                                                ...    ...\n",
       "394  <rdkit.Chem.rdchem.Mol object at 0x7f6d487aa1f0>      0\n",
       "395  <rdkit.Chem.rdchem.Mol object at 0x7f6d487aa260>      0\n",
       "396  <rdkit.Chem.rdchem.Mol object at 0x7f6d487aa2d0>      0\n",
       "397  <rdkit.Chem.rdchem.Mol object at 0x7f6d487aa340>      0\n",
       "398  <rdkit.Chem.rdchem.Mol object at 0x7f6d487aa3b0>      0\n",
       "\n",
       "[399 rows x 2 columns]"
      ]
     },
     "execution_count": 3,
     "metadata": {},
     "output_type": "execute_result"
    }
   ],
   "source": [
    "n = 200\n",
    "actives = [ Chem.MolFromSmiles(m) for m in get_mols('./data/hivpr_actives_final.ism')[:n] ]\n",
    "decoys = [ Chem.MolFromSmiles(m) for m in get_mols('./data/hivpr_decoys_final.ism')[:n] ]\n",
    "\n",
    "query = actives[0]\n",
    "\n",
    "df = pd.DataFrame()\n",
    "df['molecule'] = actives[1:] + decoys\n",
    "actual_class = ([1] * (len(actives)-1)) + ([0] * len(decoys))\n",
    "df['class'] = actual_class\n",
    "df"
   ]
  },
  {
   "cell_type": "code",
   "execution_count": 4,
   "metadata": {},
   "outputs": [],
   "source": [
    "from rdkit.Chem.rdMolDescriptors import GetMorganFingerprint\n",
    "from rdkit import DataStructs\n",
    "\n",
    "def get_fp(mol):\n",
    "    return GetMorganFingerprint(mol, 2)\n",
    "\n",
    "def sim(fp1, fp2):\n",
    "    return DataStructs.DiceSimilarity(fp1, fp2)\n",
    "\n",
    "\n",
    "query_fp = get_fp(query)\n",
    "\n",
    "df['fp'] = df['molecule'].apply(get_fp) \n",
    "df['sim_score'] = df['fp'].apply(lambda x: sim(x, query_fp)) \n",
    "df2 = df.sort_values('sim_score', ascending=False)\n",
    "df2\n",
    "df.to_csv('fp_similarity.csv', sep='\\t')"
   ]
  },
  {
   "cell_type": "code",
   "execution_count": 5,
   "metadata": {},
   "outputs": [],
   "source": [
    "from sklearn import metrics\n",
    "fpr, tpr, _ = metrics.roc_curve(df2['class'], df2['sim_score'])\n",
    "auc = metrics.roc_auc_score(df2['class'], df2['sim_score'])"
   ]
  },
  {
   "cell_type": "code",
   "execution_count": 6,
   "metadata": {},
   "outputs": [
    {
     "data": {
      "image/png": "[encoded data removed]",
      "text/plain": [
       "<Figure size 640x480 with 1 Axes>"
      ]
     },
     "metadata": {},
     "output_type": "display_data"
    }
   ],
   "source": [
    "import matplotlib.pyplot as plt\n",
    "\n",
    "plt.figure()\n",
    "lw = 2\n",
    "plt.plot(fpr, tpr, color='darkorange',\n",
    "         lw=lw, label='ROC curve (area = %0.2f)' % auc)\n",
    "plt.plot([0, 1], [0, 1], color='navy', lw=lw, linestyle='--')\n",
    "plt.xlim([0.0, 1.0])\n",
    "plt.ylim([0.0, 1.05])\n",
    "plt.xlabel('False Positive Rate')\n",
    "plt.ylabel('True Positive Rate')\n",
    "plt.title('Receiver operating characteristic')\n",
    "plt.legend(loc=\"lower right\")\n",
    "plt.show()"
   ]
  },
  {
   "cell_type": "markdown",
   "metadata": {},
   "source": [
    "# Practical Tasks\n",
    "\n",
    "* Can you build an ML model which out performs this unsophisticated search?\n",
    "* How would you compare performance between the two models?"
   ]
  },
  {
   "cell_type": "code",
   "execution_count": null,
   "metadata": {},
   "outputs": [],
   "source": []
  }
 ],
 "metadata": {
  "kernelspec": {
   "display_name": "Python 3 (ipykernel)",
   "language": "python",
   "name": "python3"
  },
  "language_info": {
   "codemirror_mode": {
    "name": "ipython",
    "version": 3
   },
   "file_extension": ".py",
   "mimetype": "text/x-python",
   "name": "python",
   "nbconvert_exporter": "python",
   "pygments_lexer": "ipython3",
   "version": "3.11.5"
  }
 },
 "nbformat": 4,
 "nbformat_minor": 4
}
