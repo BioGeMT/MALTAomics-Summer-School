{
  "cells": [
    {
      "cell_type": "code",
      "source": [
        "!pip install -q condacolab\n",
        "import condacolab\n",
        "condacolab.install()"
      ],
      "metadata": {
        "id": "_H2EWKqAM0_w",
        "outputId": "5deee437-8538-43be-f9c7-bfef567191b8",
        "colab": {
          "base_uri": "https://localhost:8080/"
        }
      },
      "execution_count": 1,
      "outputs": [
        {
          "output_type": "stream",
          "name": "stdout",
          "text": [
            "⏬ Downloading https://github.com/conda-forge/miniforge/releases/download/23.1.0-1/Mambaforge-23.1.0-1-Linux-x86_64.sh...\n",
            "📦 Installing...\n",
            "📌 Adjusting configuration...\n",
            "🩹 Patching environment...\n",
            "⏲ Done in 0:00:16\n",
            "🔁 Restarting kernel...\n"
          ]
        }
      ]
    },
    {
      "cell_type": "code",
      "source": [
        "import condacolab\n",
        "condacolab.check()"
      ],
      "metadata": {
        "id": "KDHDowPNNNtz",
        "outputId": "737aa5f6-1b44-452f-9e09-f01bb62e7618",
        "colab": {
          "base_uri": "https://localhost:8080/"
        }
      },
      "execution_count": 2,
      "outputs": [
        {
          "output_type": "stream",
          "name": "stdout",
          "text": [
            "✨🍰✨ Everything looks OK!\n"
          ]
        }
      ]
    },
    {
      "cell_type": "code",
      "source": [
        "%%capture\n",
        "!conda create --name maltaomics\n",
        "!conda activate maltaomics\n",
        "!conda install -c conda-forge rdkit\n",
        "!pip install py3Dmol"
      ],
      "metadata": {
        "id": "HouA5m8UM5EX"
      },
      "execution_count": 1,
      "outputs": []
    },
    {
      "cell_type": "code",
      "execution_count": 3,
      "metadata": {
        "colab": {
          "base_uri": "https://localhost:8080/"
        },
        "id": "mv2wq5h_MqiQ",
        "outputId": "b024a987-4274-4f49-a058-92d15a516f1d"
      },
      "outputs": [
        {
          "output_type": "stream",
          "name": "stdout",
          "text": [
            "2023.03.3\n"
          ]
        }
      ],
      "source": [
        "import rdkit # compchem library\n",
        "from rdkit import Chem\n",
        "from rdkit.Chem import AllChem\n",
        "from rdkit.Chem.Draw import IPythonConsole # use this to draw molecules in the notebook\n",
        "from rdkit import rdBase\n",
        "print(rdkit.__version__)"
      ]
    },
    {
      "cell_type": "code",
      "execution_count": 4,
      "metadata": {
        "id": "LYnOlUq5MqiR"
      },
      "outputs": [],
      "source": [
        "import py3Dmol # for 3D viz"
      ]
    },
    {
      "cell_type": "code",
      "execution_count": 5,
      "metadata": {
        "colab": {
          "base_uri": "https://localhost:8080/",
          "height": 167
        },
        "id": "jXaDoMoCMqiR",
        "outputId": "c1494a96-22b9-481a-820e-2d92d5f2a12c"
      },
      "outputs": [
        {
          "output_type": "execute_result",
          "data": {
            "text/plain": [
              "<rdkit.Chem.rdchem.Mol at 0x7a16f30e89e0>"
            ],
            "image/png": "[encoded data removed]"
          },
          "metadata": {},
          "execution_count": 5
        }
      ],
      "source": [
        "Chem.MolFromSmiles('[H]O[H]') # a simple molecule, water"
      ]
    },
    {
      "cell_type": "markdown",
      "metadata": {
        "id": "tTjHJ6GzMqiS"
      },
      "source": [
        "# A More Complex Example - Coffee (Caffeine, C8H10N4O2)"
      ]
    },
    {
      "cell_type": "markdown",
      "metadata": {
        "id": "LcwCem-6MqiS"
      },
      "source": [
        "<img src=\"https://upload.wikimedia.org/wikipedia/commons/thumb/8/8c/Caffeine_structure.svg/1200px-Caffeine_structure.svg.png\" width=\"300\" height=\"300\" alt=\"Image of Caffeine molecule\" />"
      ]
    },
    {
      "cell_type": "code",
      "execution_count": 6,
      "metadata": {
        "colab": {
          "base_uri": "https://localhost:8080/",
          "height": 167
        },
        "id": "XyDKGJGxMqiS",
        "outputId": "3c45fbab-faa8-4110-e82a-fed697afb20b"
      },
      "outputs": [
        {
          "output_type": "execute_result",
          "data": {
            "text/plain": [
              "<rdkit.Chem.rdchem.Mol at 0x7a16f30e8b30>"
            ],
            "image/png": "[encoded data removed]"
          },
          "metadata": {},
          "execution_count": 6
        }
      ],
      "source": [
        "# a little more complex example - coffee (caffeine) -\n",
        "Chem.MolFromSmiles(\"CN1C=NC2=C1C(=O)N(C(=O)N2C)C\")"
      ]
    },
    {
      "cell_type": "code",
      "execution_count": 7,
      "metadata": {
        "colab": {
          "base_uri": "https://localhost:8080/",
          "height": 417
        },
        "id": "pB4w0wj7MqiS",
        "outputId": "a0856db3-9a6a-4a39-c398-5eab5b8a68e4"
      },
      "outputs": [
        {
          "output_type": "display_data",
          "data": {
            "application/3dmoljs_load.v0": "<div id=\"3dmolviewer_16946319765771234\"  style=\"position: relative; width: 400px; height: 400px;\">\n        <p id=\"3dmolwarning_16946319765771234\" style=\"background-color:#ffcccc;color:black\">You appear to be running in JupyterLab (or JavaScript failed to load for some other reason).  You need to install the 3dmol extension: <br>\n        <tt>jupyter labextension install jupyterlab_3dmol</tt></p>\n        </div>\n<script>\n\nvar loadScriptAsync = function(uri){\n  return new Promise((resolve, reject) => {\n    //this is to ignore the existence of requirejs amd\n    var savedexports, savedmodule;\n    if (typeof exports !== 'undefined') savedexports = exports;\n    else exports = {}\n    if (typeof module !== 'undefined') savedmodule = module;\n    else module = {}\n\n    var tag = document.createElement('script');\n    tag.src = uri;\n    tag.async = true;\n    tag.onload = () => {\n        exports = savedexports;\n        module = savedmodule;\n        resolve();\n    };\n  var firstScriptTag = document.getElementsByTagName('script')[0];\n  firstScriptTag.parentNode.insertBefore(tag, firstScriptTag);\n});\n};\n\nif(typeof $3Dmolpromise === 'undefined') {\n$3Dmolpromise = null;\n  $3Dmolpromise = loadScriptAsync('https://cdnjs.cloudflare.com/ajax/libs/3Dmol/2.0.3/3Dmol-min.js');\n}\n\nvar viewer_16946319765771234 = null;\nvar warn = document.getElementById(\"3dmolwarning_16946319765771234\");\nif(warn) {\n    warn.parentNode.removeChild(warn);\n}\n$3Dmolpromise.then(function() {\nviewer_16946319765771234 = $3Dmol.createViewer(document.getElementById(\"3dmolviewer_16946319765771234\"),{backgroundColor:\"white\"});\nviewer_16946319765771234.zoomTo();\n\tviewer_16946319765771234.addModel(\"\\n     RDKit          3D\\n\\n 24 25  0  0  0  0  0  0  0  0999 V2000\\n    3.1953    0.6830   -0.2178 C   0  0  0  0  0  0  0  0  0  0  0  0\\n    2.1441   -0.2991   -0.2633 N   0  0  0  0  0  0  0  0  0  0  0  0\\n    2.2143   -1.6078   -0.4670 C   0  0  0  0  0  0  0  0  0  0  0  0\\n    0.9789   -2.1554   -0.4293 N   0  0  0  0  0  0  0  0  0  0  0  0\\n    0.0983   -1.1675   -0.1950 C   0  0  0  0  0  0  0  0  0  0  0  0\\n    0.8334   -0.0022   -0.0912 C   0  0  0  0  0  0  0  0  0  0  0  0\\n    0.1596    1.1816    0.1524 C   0  0  0  0  0  0  0  0  0  0  0  0\\n    0.7952    2.2561    0.2522 O   0  0  0  0  0  0  0  0  0  0  0  0\\n   -1.1774    1.2009    0.2853 N   0  0  0  0  0  0  0  0  0  0  0  0\\n   -1.8632    0.0526    0.1792 C   0  0  0  0  0  0  0  0  0  0  0  0\\n   -3.1148    0.0834    0.3055 O   0  0  0  0  0  0  0  0  0  0  0  0\\n   -1.2387   -1.1335   -0.0600 N   0  0  0  0  0  0  0  0  0  0  0  0\\n   -1.9586   -2.3736   -0.1765 C   0  0  0  0  0  0  0  0  0  0  0  0\\n   -1.9181    2.4300    0.5422 C   0  0  0  0  0  0  0  0  0  0  0  0\\n    4.1369    0.1530    0.1023 H   0  0  0  0  0  0  0  0  0  0  0  0\\n    3.3489    1.2163   -1.1683 H   0  0  0  0  0  0  0  0  0  0  0  0\\n    3.0147    1.4340    0.5966 H   0  0  0  0  0  0  0  0  0  0  0  0\\n    3.1673   -2.1340   -0.6388 H   0  0  0  0  0  0  0  0  0  0  0  0\\n   -1.3691   -3.2424    0.1880 H   0  0  0  0  0  0  0  0  0  0  0  0\\n   -2.8324   -2.3053    0.5351 H   0  0  0  0  0  0  0  0  0  0  0  0\\n   -2.3874   -2.5573   -1.1632 H   0  0  0  0  0  0  0  0  0  0  0  0\\n   -2.7346    2.2735    1.2581 H   0  0  0  0  0  0  0  0  0  0  0  0\\n   -2.2819    2.7987   -0.4463 H   0  0  0  0  0  0  0  0  0  0  0  0\\n   -1.2108    3.2151    0.9198 H   0  0  0  0  0  0  0  0  0  0  0  0\\n  1  2  1  0\\n  2  3  1  0\\n  3  4  2  0\\n  4  5  1  0\\n  5  6  2  0\\n  6  7  1  0\\n  7  8  2  0\\n  7  9  1  0\\n  9 10  1  0\\n 10 11  2  0\\n 10 12  1  0\\n 12 13  1  0\\n  9 14  1  0\\n  6  2  1  0\\n 12  5  1  0\\n  1 15  1  0\\n  1 16  1  0\\n  1 17  1  0\\n  3 18  1  0\\n 13 19  1  0\\n 13 20  1  0\\n 13 21  1  0\\n 14 22  1  0\\n 14 23  1  0\\n 14 24  1  0\\nM  END\\n\",\"sdf\");\n\tviewer_16946319765771234.setStyle({\"stick\": {}});\n\tviewer_16946319765771234.setBackgroundColor(\"0xffffff\");\n\tviewer_16946319765771234.zoomTo();\nviewer_16946319765771234.render();\n});\n</script>",
            "text/html": [
              "<div id=\"3dmolviewer_16946319765771234\"  style=\"position: relative; width: 400px; height: 400px;\">\n",
              "        <p id=\"3dmolwarning_16946319765771234\" style=\"background-color:#ffcccc;color:black\">You appear to be running in JupyterLab (or JavaScript failed to load for some other reason).  You need to install the 3dmol extension: <br>\n",
              "        <tt>jupyter labextension install jupyterlab_3dmol</tt></p>\n",
              "        </div>\n",
              "<script>\n",
              "\n",
              "var loadScriptAsync = function(uri){\n",
              "  return new Promise((resolve, reject) => {\n",
              "    //this is to ignore the existence of requirejs amd\n",
              "    var savedexports, savedmodule;\n",
              "    if (typeof exports !== 'undefined') savedexports = exports;\n",
              "    else exports = {}\n",
              "    if (typeof module !== 'undefined') savedmodule = module;\n",
              "    else module = {}\n",
              "\n",
              "    var tag = document.createElement('script');\n",
              "    tag.src = uri;\n",
              "    tag.async = true;\n",
              "    tag.onload = () => {\n",
              "        exports = savedexports;\n",
              "        module = savedmodule;\n",
              "        resolve();\n",
              "    };\n",
              "  var firstScriptTag = document.getElementsByTagName('script')[0];\n",
              "  firstScriptTag.parentNode.insertBefore(tag, firstScriptTag);\n",
              "});\n",
              "};\n",
              "\n",
              "if(typeof $3Dmolpromise === 'undefined') {\n",
              "$3Dmolpromise = null;\n",
              "  $3Dmolpromise = loadScriptAsync('https://cdnjs.cloudflare.com/ajax/libs/3Dmol/2.0.3/3Dmol-min.js');\n",
              "}\n",
              "\n",
              "var viewer_16946319765771234 = null;\n",
              "var warn = document.getElementById(\"3dmolwarning_16946319765771234\");\n",
              "if(warn) {\n",
              "    warn.parentNode.removeChild(warn);\n",
              "}\n",
              "$3Dmolpromise.then(function() {\n",
              "viewer_16946319765771234 = $3Dmol.createViewer(document.getElementById(\"3dmolviewer_16946319765771234\"),{backgroundColor:\"white\"});\n",
              "viewer_16946319765771234.zoomTo();\n",
              "\tviewer_16946319765771234.addModel(\"\\n     RDKit          3D\\n\\n 24 25  0  0  0  0  0  0  0  0999 V2000\\n    3.1953    0.6830   -0.2178 C   0  0  0  0  0  0  0  0  0  0  0  0\\n    2.1441   -0.2991   -0.2633 N   0  0  0  0  0  0  0  0  0  0  0  0\\n    2.2143   -1.6078   -0.4670 C   0  0  0  0  0  0  0  0  0  0  0  0\\n    0.9789   -2.1554   -0.4293 N   0  0  0  0  0  0  0  0  0  0  0  0\\n    0.0983   -1.1675   -0.1950 C   0  0  0  0  0  0  0  0  0  0  0  0\\n    0.8334   -0.0022   -0.0912 C   0  0  0  0  0  0  0  0  0  0  0  0\\n    0.1596    1.1816    0.1524 C   0  0  0  0  0  0  0  0  0  0  0  0\\n    0.7952    2.2561    0.2522 O   0  0  0  0  0  0  0  0  0  0  0  0\\n   -1.1774    1.2009    0.2853 N   0  0  0  0  0  0  0  0  0  0  0  0\\n   -1.8632    0.0526    0.1792 C   0  0  0  0  0  0  0  0  0  0  0  0\\n   -3.1148    0.0834    0.3055 O   0  0  0  0  0  0  0  0  0  0  0  0\\n   -1.2387   -1.1335   -0.0600 N   0  0  0  0  0  0  0  0  0  0  0  0\\n   -1.9586   -2.3736   -0.1765 C   0  0  0  0  0  0  0  0  0  0  0  0\\n   -1.9181    2.4300    0.5422 C   0  0  0  0  0  0  0  0  0  0  0  0\\n    4.1369    0.1530    0.1023 H   0  0  0  0  0  0  0  0  0  0  0  0\\n    3.3489    1.2163   -1.1683 H   0  0  0  0  0  0  0  0  0  0  0  0\\n    3.0147    1.4340    0.5966 H   0  0  0  0  0  0  0  0  0  0  0  0\\n    3.1673   -2.1340   -0.6388 H   0  0  0  0  0  0  0  0  0  0  0  0\\n   -1.3691   -3.2424    0.1880 H   0  0  0  0  0  0  0  0  0  0  0  0\\n   -2.8324   -2.3053    0.5351 H   0  0  0  0  0  0  0  0  0  0  0  0\\n   -2.3874   -2.5573   -1.1632 H   0  0  0  0  0  0  0  0  0  0  0  0\\n   -2.7346    2.2735    1.2581 H   0  0  0  0  0  0  0  0  0  0  0  0\\n   -2.2819    2.7987   -0.4463 H   0  0  0  0  0  0  0  0  0  0  0  0\\n   -1.2108    3.2151    0.9198 H   0  0  0  0  0  0  0  0  0  0  0  0\\n  1  2  1  0\\n  2  3  1  0\\n  3  4  2  0\\n  4  5  1  0\\n  5  6  2  0\\n  6  7  1  0\\n  7  8  2  0\\n  7  9  1  0\\n  9 10  1  0\\n 10 11  2  0\\n 10 12  1  0\\n 12 13  1  0\\n  9 14  1  0\\n  6  2  1  0\\n 12  5  1  0\\n  1 15  1  0\\n  1 16  1  0\\n  1 17  1  0\\n  3 18  1  0\\n 13 19  1  0\\n 13 20  1  0\\n 13 21  1  0\\n 14 22  1  0\\n 14 23  1  0\\n 14 24  1  0\\nM  END\\n\",\"sdf\");\n",
              "\tviewer_16946319765771234.setStyle({\"stick\": {}});\n",
              "\tviewer_16946319765771234.setBackgroundColor(\"0xffffff\");\n",
              "\tviewer_16946319765771234.zoomTo();\n",
              "viewer_16946319765771234.render();\n",
              "});\n",
              "</script>"
            ]
          },
          "metadata": {}
        }
      ],
      "source": [
        "m = Chem.AddHs(Chem.MolFromSmiles('CN1C=NC2=C1C(=O)N(C(=O)N2C)C'))\n",
        "AllChem.EmbedMultipleConfs(m ,useExpTorsionAnglePrefs=True, useBasicKnowledge=True)\n",
        "mb = Chem.MolToMolBlock(m)\n",
        "p = py3Dmol.view(width=400,height=400)\n",
        "p.addModel(mb, 'sdf')\n",
        "p.setStyle({'stick':{}})\n",
        "p.setBackgroundColor('0xffffff')\n",
        "p.zoomTo()\n",
        "p.show()"
      ]
    },
    {
      "cell_type": "markdown",
      "metadata": {
        "id": "CaycBlloMqiT"
      },
      "source": [
        "# Try some molecules yourself!\n",
        "\n",
        "(Hint: ignore Hydrogen atoms for now)\n",
        "\n",
        "1. Alcohol (Ethanol) <img src=\"https://upload.wikimedia.org/wikipedia/commons/thumb/e/e8/Ethanol-structure.svg/1200px-Ethanol-structure.svg.png\" width=\"200\" height=\"200\" alt=\"Image of Ethanol molecule\" />\n",
        "2. Vitamin C (Ascorbic Acid) <img src=\"https://upload.wikimedia.org/wikipedia/commons/thumb/e/e7/L-Ascorbic_acid.svg/1200px-L-Ascorbic_acid.svg.png\" width=\"200\" height=\"200\" alt=\"Image of Ascorbic Acid molecule\" />\n",
        "3. Cocaine (Benzoylmethylecgonine) <img src=\"https://upload.wikimedia.org/wikipedia/commons/thumb/6/66/Kokain_-_Cocaine.svg/1200px-Kokain_-_Cocaine.svg.png\" width=\"200\" height=\"200\" alt=\"Image of Ascorbic Acid molecule\" />\n",
        "4. Viagra (Sildenafil) <img src=\"https://upload.wikimedia.org/wikipedia/commons/thumb/d/d3/Sildenafil_structure.svg/250px-Sildenafil_structure.svg.png\" width=\"200\" height=\"200\" alt=\"Image of Ascorbic Acid molecule\" />\n",
        "\n"
      ]
    },
    {
      "cell_type": "code",
      "execution_count": 8,
      "metadata": {
        "colab": {
          "base_uri": "https://localhost:8080/",
          "height": 515
        },
        "id": "JmEuaQDeMqiT",
        "outputId": "8d54c871-72d2-4715-b59e-1ab7cb756792"
      },
      "outputs": [
        {
          "output_type": "display_data",
          "data": {
            "application/3dmoljs_load.v0": "<div id=\"3dmolviewer_1694631978219147\"  style=\"position: relative; width: 640px; height: 480px;\">\n        <p id=\"3dmolwarning_1694631978219147\" style=\"background-color:#ffcccc;color:black\">You appear to be running in JupyterLab (or JavaScript failed to load for some other reason).  You need to install the 3dmol extension: <br>\n        <tt>jupyter labextension install jupyterlab_3dmol</tt></p>\n        </div>\n<script>\n\nvar loadScriptAsync = function(uri){\n  return new Promise((resolve, reject) => {\n    //this is to ignore the existence of requirejs amd\n    var savedexports, savedmodule;\n    if (typeof exports !== 'undefined') savedexports = exports;\n    else exports = {}\n    if (typeof module !== 'undefined') savedmodule = module;\n    else module = {}\n\n    var tag = document.createElement('script');\n    tag.src = uri;\n    tag.async = true;\n    tag.onload = () => {\n        exports = savedexports;\n        module = savedmodule;\n        resolve();\n    };\n  var firstScriptTag = document.getElementsByTagName('script')[0];\n  firstScriptTag.parentNode.insertBefore(tag, firstScriptTag);\n});\n};\n\nif(typeof $3Dmolpromise === 'undefined') {\n$3Dmolpromise = null;\n  $3Dmolpromise = loadScriptAsync('https://cdnjs.cloudflare.com/ajax/libs/3Dmol/2.0.3/3Dmol-min.js');\n}\n\nvar viewer_1694631978219147 = null;\nvar warn = document.getElementById(\"3dmolwarning_1694631978219147\");\nif(warn) {\n    warn.parentNode.removeChild(warn);\n}\n$3Dmolpromise.then(function() {\nviewer_1694631978219147 = $3Dmol.createViewer(document.getElementById(\"3dmolviewer_1694631978219147\"),{backgroundColor:\"white\"});\n$3Dmol.download(\"pdb:1pwc\", viewer_1694631978219147, {\"multimodel\": true}, function() {\nviewer_1694631978219147.zoomTo();\n\tviewer_1694631978219147.setStyle({\"chain\": \"A\"},{\"stick\": {\"color\": \"spectrum\"}});\nviewer_1694631978219147.render();\n})\n});\n</script>",
            "text/html": [
              "<div id=\"3dmolviewer_1694631978219147\"  style=\"position: relative; width: 640px; height: 480px;\">\n",
              "        <p id=\"3dmolwarning_1694631978219147\" style=\"background-color:#ffcccc;color:black\">You appear to be running in JupyterLab (or JavaScript failed to load for some other reason).  You need to install the 3dmol extension: <br>\n",
              "        <tt>jupyter labextension install jupyterlab_3dmol</tt></p>\n",
              "        </div>\n",
              "<script>\n",
              "\n",
              "var loadScriptAsync = function(uri){\n",
              "  return new Promise((resolve, reject) => {\n",
              "    //this is to ignore the existence of requirejs amd\n",
              "    var savedexports, savedmodule;\n",
              "    if (typeof exports !== 'undefined') savedexports = exports;\n",
              "    else exports = {}\n",
              "    if (typeof module !== 'undefined') savedmodule = module;\n",
              "    else module = {}\n",
              "\n",
              "    var tag = document.createElement('script');\n",
              "    tag.src = uri;\n",
              "    tag.async = true;\n",
              "    tag.onload = () => {\n",
              "        exports = savedexports;\n",
              "        module = savedmodule;\n",
              "        resolve();\n",
              "    };\n",
              "  var firstScriptTag = document.getElementsByTagName('script')[0];\n",
              "  firstScriptTag.parentNode.insertBefore(tag, firstScriptTag);\n",
              "});\n",
              "};\n",
              "\n",
              "if(typeof $3Dmolpromise === 'undefined') {\n",
              "$3Dmolpromise = null;\n",
              "  $3Dmolpromise = loadScriptAsync('https://cdnjs.cloudflare.com/ajax/libs/3Dmol/2.0.3/3Dmol-min.js');\n",
              "}\n",
              "\n",
              "var viewer_1694631978219147 = null;\n",
              "var warn = document.getElementById(\"3dmolwarning_1694631978219147\");\n",
              "if(warn) {\n",
              "    warn.parentNode.removeChild(warn);\n",
              "}\n",
              "$3Dmolpromise.then(function() {\n",
              "viewer_1694631978219147 = $3Dmol.createViewer(document.getElementById(\"3dmolviewer_1694631978219147\"),{backgroundColor:\"white\"});\n",
              "$3Dmol.download(\"pdb:1pwc\", viewer_1694631978219147, {\"multimodel\": true}, function() {\n",
              "viewer_1694631978219147.zoomTo();\n",
              "\tviewer_1694631978219147.setStyle({\"chain\": \"A\"},{\"stick\": {\"color\": \"spectrum\"}});\n",
              "viewer_1694631978219147.render();\n",
              "})\n",
              "});\n",
              "</script>"
            ]
          },
          "metadata": {}
        },
        {
          "output_type": "execute_result",
          "data": {
            "text/plain": [
              "<py3Dmol.view at 0x7a170b74d180>"
            ]
          },
          "metadata": {},
          "execution_count": 8
        }
      ],
      "source": [
        "# Proteins are much larger complexes, sometimes called macromolecules\n",
        "view = py3Dmol.view(query='pdb:1pwc', options={'multimodel':True})\n",
        "view.setStyle({'chain':'A'}, {'stick':{'color':'spectrum'}})\n",
        "#view.addSurface(\"VDW\", {'opacity': 0.6});\n",
        "view"
      ]
    },
    {
      "cell_type": "markdown",
      "metadata": {
        "id": "vYWW158bMqiT"
      },
      "source": [
        "Now have a look at __penicillin__ (a famous antibacterial) discovered accidentally by Sir Alexander Fleming."
      ]
    },
    {
      "cell_type": "code",
      "execution_count": 9,
      "metadata": {
        "colab": {
          "base_uri": "https://localhost:8080/",
          "height": 497
        },
        "id": "0-K5JBLqMqiT",
        "outputId": "dac40dd0-afe9-438b-b9af-75ba1814ac49"
      },
      "outputs": [
        {
          "output_type": "display_data",
          "data": {
            "application/3dmoljs_load.v0": "<div id=\"3dmolviewer_16946319800669029\"  style=\"position: relative; width: 640px; height: 480px;\">\n        <p id=\"3dmolwarning_16946319800669029\" style=\"background-color:#ffcccc;color:black\">You appear to be running in JupyterLab (or JavaScript failed to load for some other reason).  You need to install the 3dmol extension: <br>\n        <tt>jupyter labextension install jupyterlab_3dmol</tt></p>\n        </div>\n<script>\n\nvar loadScriptAsync = function(uri){\n  return new Promise((resolve, reject) => {\n    //this is to ignore the existence of requirejs amd\n    var savedexports, savedmodule;\n    if (typeof exports !== 'undefined') savedexports = exports;\n    else exports = {}\n    if (typeof module !== 'undefined') savedmodule = module;\n    else module = {}\n\n    var tag = document.createElement('script');\n    tag.src = uri;\n    tag.async = true;\n    tag.onload = () => {\n        exports = savedexports;\n        module = savedmodule;\n        resolve();\n    };\n  var firstScriptTag = document.getElementsByTagName('script')[0];\n  firstScriptTag.parentNode.insertBefore(tag, firstScriptTag);\n});\n};\n\nif(typeof $3Dmolpromise === 'undefined') {\n$3Dmolpromise = null;\n  $3Dmolpromise = loadScriptAsync('https://cdnjs.cloudflare.com/ajax/libs/3Dmol/2.0.3/3Dmol-min.js');\n}\n\nvar viewer_16946319800669029 = null;\nvar warn = document.getElementById(\"3dmolwarning_16946319800669029\");\nif(warn) {\n    warn.parentNode.removeChild(warn);\n}\n$3Dmolpromise.then(function() {\nviewer_16946319800669029 = $3Dmol.createViewer(document.getElementById(\"3dmolviewer_16946319800669029\"),{backgroundColor:\"white\"});\n$3Dmol.download(\"pdb:1pwc\", viewer_16946319800669029, {}, function() {\nviewer_16946319800669029.zoomTo();\n\tviewer_16946319800669029.setStyle({\"chain\": \"A\"},{\"stick\": {}});\n\tviewer_16946319800669029.setStyle({\"resn\": \"PNM\"},{\"stick\": {\"colorscheme\": \"yellowCarbon\"}});\n\tviewer_16946319800669029.addSurface(\"VDW\",{\"opacity\": 0.9},{\"hetflag\": false});\n\tviewer_16946319800669029.zoomTo({\"resn\": \"PNM\"});\nviewer_16946319800669029.render();\n})\n});\n</script>",
            "text/html": [
              "<div id=\"3dmolviewer_16946319800669029\"  style=\"position: relative; width: 640px; height: 480px;\">\n",
              "        <p id=\"3dmolwarning_16946319800669029\" style=\"background-color:#ffcccc;color:black\">You appear to be running in JupyterLab (or JavaScript failed to load for some other reason).  You need to install the 3dmol extension: <br>\n",
              "        <tt>jupyter labextension install jupyterlab_3dmol</tt></p>\n",
              "        </div>\n",
              "<script>\n",
              "\n",
              "var loadScriptAsync = function(uri){\n",
              "  return new Promise((resolve, reject) => {\n",
              "    //this is to ignore the existence of requirejs amd\n",
              "    var savedexports, savedmodule;\n",
              "    if (typeof exports !== 'undefined') savedexports = exports;\n",
              "    else exports = {}\n",
              "    if (typeof module !== 'undefined') savedmodule = module;\n",
              "    else module = {}\n",
              "\n",
              "    var tag = document.createElement('script');\n",
              "    tag.src = uri;\n",
              "    tag.async = true;\n",
              "    tag.onload = () => {\n",
              "        exports = savedexports;\n",
              "        module = savedmodule;\n",
              "        resolve();\n",
              "    };\n",
              "  var firstScriptTag = document.getElementsByTagName('script')[0];\n",
              "  firstScriptTag.parentNode.insertBefore(tag, firstScriptTag);\n",
              "});\n",
              "};\n",
              "\n",
              "if(typeof $3Dmolpromise === 'undefined') {\n",
              "$3Dmolpromise = null;\n",
              "  $3Dmolpromise = loadScriptAsync('https://cdnjs.cloudflare.com/ajax/libs/3Dmol/2.0.3/3Dmol-min.js');\n",
              "}\n",
              "\n",
              "var viewer_16946319800669029 = null;\n",
              "var warn = document.getElementById(\"3dmolwarning_16946319800669029\");\n",
              "if(warn) {\n",
              "    warn.parentNode.removeChild(warn);\n",
              "}\n",
              "$3Dmolpromise.then(function() {\n",
              "viewer_16946319800669029 = $3Dmol.createViewer(document.getElementById(\"3dmolviewer_16946319800669029\"),{backgroundColor:\"white\"});\n",
              "$3Dmol.download(\"pdb:1pwc\", viewer_16946319800669029, {}, function() {\n",
              "viewer_16946319800669029.zoomTo();\n",
              "\tviewer_16946319800669029.setStyle({\"chain\": \"A\"},{\"stick\": {}});\n",
              "\tviewer_16946319800669029.setStyle({\"resn\": \"PNM\"},{\"stick\": {\"colorscheme\": \"yellowCarbon\"}});\n",
              "\tviewer_16946319800669029.addSurface(\"VDW\",{\"opacity\": 0.9},{\"hetflag\": false});\n",
              "\tviewer_16946319800669029.zoomTo({\"resn\": \"PNM\"});\n",
              "viewer_16946319800669029.render();\n",
              "})\n",
              "});\n",
              "</script>"
            ]
          },
          "metadata": {}
        }
      ],
      "source": [
        "view = py3Dmol.view(query='pdb:1pwc')\n",
        "view.setStyle({'chain':'A'}, {'stick':{}})\n",
        "view.setStyle({'resn':'PNM'}, {'stick':{'colorscheme':'yellowCarbon'}})\n",
        "view.addSurface(\"VDW\", {'opacity': 0.9},{'hetflag':False});\n",
        "view.zoomTo({'resn':'PNM'})\n",
        "view.show()"
      ]
    }
  ],
  "metadata": {
    "kernelspec": {
      "display_name": "Python 3 (ipykernel)",
      "language": "python",
      "name": "python3"
    },
    "language_info": {
      "codemirror_mode": {
        "name": "ipython",
        "version": 3
      },
      "file_extension": ".py",
      "mimetype": "text/x-python",
      "name": "python",
      "nbconvert_exporter": "python",
      "pygments_lexer": "ipython3",
      "version": "3.11.5"
    },
    "colab": {
      "provenance": []
    }
  },
  "nbformat": 4,
  "nbformat_minor": 0
}